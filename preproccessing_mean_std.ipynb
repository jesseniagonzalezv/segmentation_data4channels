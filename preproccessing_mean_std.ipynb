{
 "cells": [
  {
   "cell_type": "code",
   "execution_count": null,
   "metadata": {},
   "outputs": [],
   "source": []
  },
  {
   "cell_type": "code",
   "execution_count": null,
   "metadata": {},
   "outputs": [],
   "source": []
  },
  {
   "cell_type": "markdown",
   "metadata": {},
   "source": [
    "# Mean and STD"
   ]
  },
  {
   "cell_type": "code",
   "execution_count": 12,
   "metadata": {},
   "outputs": [
    {
     "name": "stdout",
     "output_type": "stream",
     "text": [
      "(823,)\n",
      "elapsed time: 2.0108482940122485\n",
      "mean:[0.12121853 0.10802471 0.11964872 0.137894  ]\n",
      "std:[0.09692554 0.07299206 0.06229836 0.11779822]\n"
     ]
    }
   ],
   "source": [
    "\"\"\"\n",
    "Adaptate from https://gist.github.com/jdhao/9a86d4b9e4f79c5330d54de991461fd6\n",
    "Calculate Mean and Std per channel\n",
    "in this script, we calculate the image per channel mean and standard\n",
    "deviation in the training set, do not calculate the statistics on the\n",
    "whole dataset, as per here http://cs231n.github.io/neural-networks-2/#datapre\n",
    "\"\"\"\n",
    "\n",
    "import numpy as np\n",
    "from os import listdir\n",
    "from os.path import join, isdir\n",
    "from glob import glob\n",
    "import cv2\n",
    "import timeit\n",
    "from pathlib import Path\n",
    "\n",
    "# number of channels of the dataset image, 4 channels (RGB NIR)\n",
    "\n",
    "CHANNEL_NUM = 4\n",
    "\n",
    "\n",
    "def cal_dir_stat(root, maximunValue):\n",
    "    pixel_num = 0 # store all pixel number in the dataset\n",
    "    channel_sum = np.zeros(CHANNEL_NUM)\n",
    "    channel_sum_squared = np.zeros(CHANNEL_NUM)\n",
    "\n",
    "    im_pths =np.array(sorted(list(train_root.glob('*.npy'))))\n",
    "    print(np.shape(im_pths))\n",
    "\n",
    "\n",
    "    for path in im_pths:\n",
    "        im = np.load(path).transpose(2,1,0) # \n",
    "        #print(np.shape(im))\n",
    "\n",
    "        im = im/maximunValue\n",
    "        pixel_num += (im.size/CHANNEL_NUM)\n",
    "        channel_sum += np.sum(im, axis=(0, 1))\n",
    "        channel_sum_squared += np.sum(np.square(im), axis=(0, 1))\n",
    "\n",
    "    rgb_mean = channel_sum / pixel_num\n",
    "    rgb_std = np.sqrt(channel_sum_squared / pixel_num - np.square(rgb_mean))\n",
    "       \n",
    "    return rgb_mean, rgb_std\n",
    "\n",
    "\n",
    "data_path = Path('data')\n",
    "train_root= data_path/'train'/'images'\n",
    "\n",
    "start = timeit.default_timer()\n",
    "mean, std = cal_dir_stat(train_root,3413)\n",
    "\n",
    "end = timeit.default_timer()\n",
    "print(\"elapsed time: {}\".format(end-start))\n",
    "print(\"mean:{}\\nstd:{}\".format(mean, std))"
   ]
  },
  {
   "cell_type": "code",
   "execution_count": 13,
   "metadata": {},
   "outputs": [
    {
     "name": "stdout",
     "output_type": "stream",
     "text": [
      "(823,)\n",
      "elapsed time: 4.626807662192732\n",
      "mean:[0.12121853 0.10802471 0.11964872 0.137894  ]\n",
      "std:[0.09692554 0.07299206 0.06229836 0.11779822]\n"
     ]
    }
   ],
   "source": [
    "!python meanstd.py "
   ]
  },
  {
   "cell_type": "code",
   "execution_count": null,
   "metadata": {},
   "outputs": [],
   "source": []
  },
  {
   "cell_type": "code",
   "execution_count": null,
   "metadata": {},
   "outputs": [],
   "source": []
  }
 ],
 "metadata": {
  "kernelspec": {
   "display_name": "Python 3",
   "language": "python",
   "name": "python3"
  },
  "language_info": {
   "codemirror_mode": {
    "name": "ipython",
    "version": 3
   },
   "file_extension": ".py",
   "mimetype": "text/x-python",
   "name": "python",
   "nbconvert_exporter": "python",
   "pygments_lexer": "ipython3",
   "version": "3.6.8"
  }
 },
 "nbformat": 4,
 "nbformat_minor": 4
}
